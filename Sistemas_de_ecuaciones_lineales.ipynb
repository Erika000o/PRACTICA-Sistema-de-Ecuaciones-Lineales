{
  "nbformat": 4,
  "nbformat_minor": 0,
  "metadata": {
    "colab": {
      "provenance": [],
      "gpuType": "V28",
      "authorship_tag": "ABX9TyPube4irxyNdaHUmcrJtAlm",
      "include_colab_link": true
    },
    "kernelspec": {
      "name": "python3",
      "display_name": "Python 3"
    },
    "language_info": {
      "name": "python"
    },
    "accelerator": "TPU"
  },
  "cells": [
    {
      "cell_type": "markdown",
      "metadata": {
        "id": "view-in-github",
        "colab_type": "text"
      },
      "source": [
        "<a href=\"https://colab.research.google.com/github/Erika000o/PRACTICA-Sistema-de-Ecuaciones-Lineales/blob/main/Sistemas_de_ecuaciones_lineales.ipynb\" target=\"_parent\"><img src=\"https://colab.research.google.com/assets/colab-badge.svg\" alt=\"Open In Colab\"/></a>"
      ]
    },
    {
      "cell_type": "markdown",
      "source": [
        "#Ejercicio 1: Sistema de Ecuaciones Lineales"
      ],
      "metadata": {
        "id": "QKoEewmR4o8M"
      }
    },
    {
      "cell_type": "code",
      "execution_count": null,
      "metadata": {
        "id": "CUGkPv3d4JKz"
      },
      "outputs": [],
      "source": [
        "import torch\n",
        "import torch.nn as nn\n",
        "import torch.optim as optim\n"
      ]
    },
    {
      "cell_type": "code",
      "source": [
        "# Definimos una red neuronal simple para el sistema lineal\n",
        "class LinearSystemNN(nn.Module):\n",
        "    def __init__(self):\n",
        "        super(LinearSystemNN, self).__init__()\n",
        "        self.x = nn.Parameter(torch.randn(1, requires_grad=True))\n",
        "        self.y = nn.Parameter(torch.randn(1, requires_grad=True))\n",
        "\n",
        "    def forward(self):\n",
        "        return self.x, self.y\n"
      ],
      "metadata": {
        "id": "IzVtLPav4fNS"
      },
      "execution_count": null,
      "outputs": []
    },
    {
      "cell_type": "code",
      "source": [
        "# Creamos la red y definimos la función de pérdida\n",
        "net = LinearSystemNN()\n",
        "optimizer = optim.Adam(net.parameters(), lr=0.01)\n"
      ],
      "metadata": {
        "id": "eLJFBUuM4iR2"
      },
      "execution_count": null,
      "outputs": []
    },
    {
      "cell_type": "code",
      "source": [
        "# Entrenamiento de la red\n",
        "for epoch in range(1000):\n",
        "    x, y = net()\n",
        "    equation1 = 3 * x + y - 60  # 3x + y = 60\n",
        "    equation2 = 2 * x + 2 * y - 40  # 2x + 2y = 40\n",
        "\n",
        "    loss = (equation1**2 + equation2**2).mean()  # Pérdida cuadrática\n",
        "    optimizer.zero_grad()\n",
        "    loss.backward()\n",
        "    optimizer.step()\n",
        "\n",
        "    if epoch % 100 == 0:\n",
        "        print(f\"Epoch {epoch}, Loss: {loss.item()}\")\n",
        "\n"
      ],
      "metadata": {
        "colab": {
          "base_uri": "https://localhost:8080/"
        },
        "id": "Ivp5O6Ah4mCW",
        "outputId": "d42f0957-893f-408f-94a2-1be5c90b9db1"
      },
      "execution_count": null,
      "outputs": [
        {
          "output_type": "stream",
          "name": "stdout",
          "text": [
            "Epoch 0, Loss: 4900.0224609375\n",
            "Epoch 100, Loss: 4168.162109375\n",
            "Epoch 200, Loss: 3524.98388671875\n",
            "Epoch 300, Loss: 2964.0361328125\n",
            "Epoch 400, Loss: 2478.197998046875\n",
            "Epoch 500, Loss: 2060.598876953125\n",
            "Epoch 600, Loss: 1704.6212158203125\n",
            "Epoch 700, Loss: 1403.9002685546875\n",
            "Epoch 800, Loss: 1152.33251953125\n",
            "Epoch 900, Loss: 944.0907592773438\n"
          ]
        }
      ]
    },
    {
      "cell_type": "code",
      "source": [
        "# Imprimimos la solución aproximada\n",
        "x, y = net()\n",
        "print(f\"Solución aproximada: x = {x.item()}, y = {y.item()}\")\n"
      ],
      "metadata": {
        "colab": {
          "base_uri": "https://localhost:8080/"
        },
        "id": "Ver5mrSg4n53",
        "outputId": "337bd5f0-5600-401a-a45a-45e136205e46"
      },
      "execution_count": null,
      "outputs": [
        {
          "output_type": "stream",
          "name": "stdout",
          "text": [
            "Solución aproximada: x = 8.092144012451172, y = 8.672307968139648\n"
          ]
        }
      ]
    },
    {
      "cell_type": "markdown",
      "source": [
        "#Ejercicio 2: Sistema de Ecuaciones No Lineales"
      ],
      "metadata": {
        "id": "LH7hwewZ4uQ2"
      }
    },
    {
      "cell_type": "code",
      "source": [
        "import torch\n",
        "import torch.nn as nn\n",
        "import torch.optim as optim\n"
      ],
      "metadata": {
        "id": "ojrHlbsU4wo8"
      },
      "execution_count": null,
      "outputs": []
    },
    {
      "cell_type": "code",
      "source": [
        "# Definimos una red neuronal simple para el sistema no lineal\n",
        "class NonLinearSystemNN(nn.Module):\n",
        "    def __init__(self):\n",
        "        super(NonLinearSystemNN, self).__init__()\n",
        "        self.x = nn.Parameter(torch.randn(1, requires_grad=True))\n",
        "        self.y = nn.Parameter(torch.randn(1, requires_grad=True))\n",
        "\n",
        "    def forward(self):\n",
        "        return self.x, self.y\n"
      ],
      "metadata": {
        "id": "A4YA_dJc4zIS"
      },
      "execution_count": null,
      "outputs": []
    },
    {
      "cell_type": "code",
      "source": [
        "# Creamos la red y definimos la función de pérdida\n",
        "net = NonLinearSystemNN()\n",
        "optimizer = optim.Adam(net.parameters(), lr=0.01)\n",
        "\n"
      ],
      "metadata": {
        "id": "olndfFAv41DU"
      },
      "execution_count": null,
      "outputs": []
    },
    {
      "cell_type": "code",
      "source": [
        "# Entrenamiento de la red\n",
        "for epoch in range(1000):\n",
        "    x, y = net()\n",
        "    equation1 = x + y - 10  # x + y = 10\n",
        "    equation2 = x**2 + y**2 - 25  # x^2 + y^2 = 25\n",
        "\n",
        "    loss = (equation1**2 + equation2**2).mean()  # Pérdida cuadrática\n",
        "    optimizer.zero_grad()\n",
        "    loss.backward()\n",
        "    optimizer.step()\n",
        "\n",
        "    if epoch % 100 == 0:\n",
        "        print(f\"Epoch {epoch}, Loss: {loss.item()}\")\n",
        "\n"
      ],
      "metadata": {
        "colab": {
          "base_uri": "https://localhost:8080/"
        },
        "id": "HIizJqqY42v6",
        "outputId": "563324e8-3447-457a-a0f1-047d9ab80524"
      },
      "execution_count": null,
      "outputs": [
        {
          "output_type": "stream",
          "name": "stdout",
          "text": [
            "Epoch 0, Loss: 488.1160583496094\n",
            "Epoch 100, Loss: 225.86117553710938\n",
            "Epoch 200, Loss: 106.17848205566406\n",
            "Epoch 300, Loss: 90.84418487548828\n",
            "Epoch 400, Loss: 81.93992614746094\n",
            "Epoch 500, Loss: 72.71967315673828\n",
            "Epoch 600, Loss: 63.61607360839844\n",
            "Epoch 700, Loss: 55.03762435913086\n",
            "Epoch 800, Loss: 47.279666900634766\n",
            "Epoch 900, Loss: 40.503700256347656\n"
          ]
        }
      ]
    },
    {
      "cell_type": "code",
      "source": [
        "# Imprimimos la solución aproximada\n",
        "x, y = net()\n",
        "print(f\"Solución aproximada: x = {x.item()}, y = {y.item()}\")\n"
      ],
      "metadata": {
        "colab": {
          "base_uri": "https://localhost:8080/"
        },
        "id": "5KTM8M2N44vy",
        "outputId": "255fce01-b838-4504-bbd9-7136f6ad3cdb"
      },
      "execution_count": null,
      "outputs": [
        {
          "output_type": "stream",
          "name": "stdout",
          "text": [
            "Solución aproximada: x = -0.849607527256012, y = 4.970794677734375\n"
          ]
        }
      ]
    }
  ]
}